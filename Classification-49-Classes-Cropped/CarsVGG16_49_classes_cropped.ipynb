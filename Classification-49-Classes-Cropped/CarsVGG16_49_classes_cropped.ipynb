{
  "nbformat": 4,
  "nbformat_minor": 0,
  "metadata": {
    "accelerator": "GPU",
    "colab": {
      "name": "CarsVGG16_49_classes_cropped.ipynb",
      "provenance": [],
      "collapsed_sections": [],
      "machine_shape": "hm"
    },
    "kernelspec": {
      "display_name": "Python 3",
      "name": "python3"
    }
  },
  "cells": [
    {
      "cell_type": "code",
      "metadata": {
        "id": "z7-Ng7EJkwsd"
      },
      "source": [
        "# importing libaries\n",
        "import matplotlib.pylab as plt\n",
        "import numpy as np\n",
        "import tensorflow as tf\n",
        "import pandas as pd\n",
        "import cv2\n",
        "from keras.models import Sequential\n",
        "from keras.layers import Dense, Conv2D, MaxPool2D, Flatten\n",
        "from keras.applications.vgg16 import VGG16"
      ],
      "execution_count": 1,
      "outputs": []
    },
    {
      "cell_type": "code",
      "metadata": {
        "colab": {
          "base_uri": "https://localhost:8080/"
        },
        "id": "_A_9rjoHk35t",
        "outputId": "3ae0c85a-7584-41f0-cad2-e1796fdda93a"
      },
      "source": [
        "from google.colab import drive\n",
        "drive.mount('/content/gdrive')"
      ],
      "execution_count": 2,
      "outputs": [
        {
          "output_type": "stream",
          "text": [
            "Mounted at /content/gdrive\n"
          ],
          "name": "stdout"
        }
      ]
    },
    {
      "cell_type": "code",
      "metadata": {
        "colab": {
          "base_uri": "https://localhost:8080/",
          "height": 35
        },
        "id": "jPxsvUexk6nH",
        "outputId": "bb4dd592-17cf-49be-80f7-1f96ea9d3b66"
      },
      "source": [
        "tf.test.gpu_device_name()"
      ],
      "execution_count": 3,
      "outputs": [
        {
          "output_type": "execute_result",
          "data": {
            "application/vnd.google.colaboratory.intrinsic+json": {
              "type": "string"
            },
            "text/plain": [
              "'/device:GPU:0'"
            ]
          },
          "metadata": {
            "tags": []
          },
          "execution_count": 3
        }
      ]
    },
    {
      "cell_type": "code",
      "metadata": {
        "id": "7RlUBi_YqciH"
      },
      "source": [
        "%cd /content/gdrive/MyDrive/Kaggle/cropped\n",
        "!unzip \\*.zip  && rm *.zip"
      ],
      "execution_count": null,
      "outputs": []
    },
    {
      "cell_type": "code",
      "metadata": {
        "colab": {
          "base_uri": "https://localhost:8080/"
        },
        "id": "MYhyFg-9lBGc",
        "outputId": "efa04b02-6d91-436e-ac64-32ffaa12e00c"
      },
      "source": [
        "gen_params = {\"rescale\":1.0/255,\n",
        "              \"featurewise_center\":False,\n",
        "              \"samplewise_center\":False,\n",
        "              \"featurewise_std_normalization\":False,\n",
        "              \"samplewise_std_normalization\":False,\n",
        "              \"zca_whitening\":False,\n",
        "              \"rotation_range\":20,\n",
        "              \"width_shift_range\":0.1,\n",
        "              \"height_shift_range\":0.1,\n",
        "              \"shear_range\":0.2,\n",
        "              \"zoom_range\":0.1,\n",
        "              \"horizontal_flip\":True,\n",
        "              \"fill_mode\":'constant',\n",
        "              \"cval\": 0,\n",
        "              \"validation_split\":0.2}\n",
        "\n",
        "train_datagen = tf.keras.preprocessing.image.ImageDataGenerator(**gen_params)\n",
        "test_datagen = tf.keras.preprocessing.image.ImageDataGenerator(rescale = 1/255.0)\n",
        "\n",
        "\n",
        "## Data generator for training images\n",
        "train_generator = train_datagen.flow_from_directory('/content/gdrive/MyDrive/Kaggle/cropped/car_data_cropped/car_data/train/',\n",
        "                                                    class_mode='categorical', batch_size = 32,\n",
        "                                                    target_size=(224,224),color_mode='rgb',shuffle = True,subset='training')\n",
        "\n",
        "val_generator = train_datagen.flow_from_directory('/content/gdrive/MyDrive/Kaggle/cropped/car_data_cropped/car_data/train/',\n",
        "                                                    class_mode='categorical', batch_size = 32, \n",
        "                                                    target_size=(224,224),color_mode='rgb',shuffle = True,subset='validation')\n",
        "\n",
        "test_generator = test_datagen.flow_from_directory('/content/gdrive/MyDrive/Kaggle/cropped/car_data_cropped/car_data/test/',\n",
        "                                                    class_mode='categorical', batch_size = 32,\n",
        "                                                    target_size=(224,224),color_mode='rgb',shuffle = True)"
      ],
      "execution_count": 6,
      "outputs": [
        {
          "output_type": "stream",
          "text": [
            "Found 6535 images belonging to 49 classes.\n",
            "Found 1609 images belonging to 49 classes.\n",
            "Found 8041 images belonging to 49 classes.\n"
          ],
          "name": "stdout"
        }
      ]
    },
    {
      "cell_type": "code",
      "metadata": {
        "id": "brjZwPSClCj8"
      },
      "source": [
        "def build_vgg16_transfer_learning_model(img_height=224,img_width=224,num_classes=49):\n",
        "\n",
        "    # base model\n",
        "    base_model = tf.keras.applications.VGG16(\n",
        "        weights='imagenet',\n",
        "        input_shape=(img_height, img_width, 3),\n",
        "        include_top=False) \n",
        "    base_model.trainable = False\n",
        "\n",
        "    # add the top\n",
        "    input_image = tf.keras.Input(shape=(img_height, img_width, 3))\n",
        "    x1 = base_model(input_image, training=False)\n",
        "    x2 = tf.keras.layers.Flatten()(x1)\n",
        "    out = tf.keras.layers.Dense(num_classes,activation = 'softmax')(x2)\n",
        "    model = tf.keras.Model(inputs = input_image, outputs =out)\n",
        "  \n",
        "    #compile and return\n",
        "    model.compile(optimizer=tf.keras.optimizers.Adam(lr = 1e-4),loss='categorical_crossentropy',metrics=['accuracy'])\n",
        "    \n",
        "    return model"
      ],
      "execution_count": 7,
      "outputs": []
    },
    {
      "cell_type": "code",
      "metadata": {
        "colab": {
          "base_uri": "https://localhost:8080/"
        },
        "id": "3WvDMH8LlD7J",
        "outputId": "56c1480b-7a0d-4106-8b8c-0457b047a713"
      },
      "source": [
        "model = build_vgg16_transfer_learning_model()\n",
        "model.summary()"
      ],
      "execution_count": 17,
      "outputs": [
        {
          "output_type": "stream",
          "text": [
            "Model: \"model_1\"\n",
            "_________________________________________________________________\n",
            "Layer (type)                 Output Shape              Param #   \n",
            "=================================================================\n",
            "input_4 (InputLayer)         [(None, 224, 224, 3)]     0         \n",
            "_________________________________________________________________\n",
            "vgg16 (Functional)           (None, 7, 7, 512)         14714688  \n",
            "_________________________________________________________________\n",
            "flatten_1 (Flatten)          (None, 25088)             0         \n",
            "_________________________________________________________________\n",
            "dense_1 (Dense)              (None, 49)                1229361   \n",
            "=================================================================\n",
            "Total params: 15,944,049\n",
            "Trainable params: 1,229,361\n",
            "Non-trainable params: 14,714,688\n",
            "_________________________________________________________________\n"
          ],
          "name": "stdout"
        }
      ]
    },
    {
      "cell_type": "code",
      "metadata": {
        "id": "SSBAS05dlFoI"
      },
      "source": [
        "model_name = \"vgg16_cars_49_classes_cropped.h5\"\n",
        "early_stop = tf.keras.callbacks.EarlyStopping(monitor='val_loss', patience = 20)\n",
        "\n",
        "monitor = tf.keras.callbacks.ModelCheckpoint(model_name, monitor='val_loss',\\\n",
        "                                             verbose=0,save_best_only=True,\\\n",
        "                                             save_weights_only=True,\\\n",
        "                                             mode='min')\n",
        "# Learning rate schedule\n",
        "def scheduler(epoch, lr):\n",
        "    if epoch%4 == 0 and epoch!= 0:\n",
        "        lr = lr/2\n",
        "    return lr\n",
        "\n",
        "lr_schedule = tf.keras.callbacks.LearningRateScheduler(scheduler,verbose = 0)"
      ],
      "execution_count": 18,
      "outputs": []
    },
    {
      "cell_type": "code",
      "metadata": {
        "colab": {
          "base_uri": "https://localhost:8080/"
        },
        "id": "DJQzA4ZMmS7t",
        "outputId": "31bfe617-6fcb-46b8-e497-bc653f61b0e4"
      },
      "source": [
        "batch = 128\n",
        "num_epochs = 100\n",
        "\n",
        "history = model.fit(train_generator,\n",
        "                    validation_data = val_generator,\n",
        "                    epochs=num_epochs,\n",
        "                    verbose=1,\n",
        "                    batch_size=batch,\n",
        "                    callbacks=[early_stop,monitor,lr_schedule])"
      ],
      "execution_count": 19,
      "outputs": [
        {
          "output_type": "stream",
          "text": [
            "Epoch 1/100\n",
            "205/205 [==============================] - 124s 601ms/step - loss: 3.4671 - accuracy: 0.1192 - val_loss: 2.9992 - val_accuracy: 0.1939\n",
            "Epoch 2/100\n",
            "205/205 [==============================] - 122s 593ms/step - loss: 2.7911 - accuracy: 0.2460 - val_loss: 2.6270 - val_accuracy: 0.2983\n",
            "Epoch 3/100\n",
            "205/205 [==============================] - 121s 590ms/step - loss: 2.4214 - accuracy: 0.3428 - val_loss: 2.4183 - val_accuracy: 0.3605\n",
            "Epoch 4/100\n",
            "205/205 [==============================] - 122s 595ms/step - loss: 2.1708 - accuracy: 0.4196 - val_loss: 2.2455 - val_accuracy: 0.3915\n",
            "Epoch 5/100\n",
            "205/205 [==============================] - 122s 594ms/step - loss: 1.9592 - accuracy: 0.4929 - val_loss: 2.1652 - val_accuracy: 0.3996\n",
            "Epoch 6/100\n",
            "205/205 [==============================] - 122s 595ms/step - loss: 1.8730 - accuracy: 0.5078 - val_loss: 2.1047 - val_accuracy: 0.4226\n",
            "Epoch 7/100\n",
            "205/205 [==============================] - 122s 598ms/step - loss: 1.7859 - accuracy: 0.5277 - val_loss: 2.0626 - val_accuracy: 0.4574\n",
            "Epoch 8/100\n",
            "205/205 [==============================] - 123s 600ms/step - loss: 1.7218 - accuracy: 0.5582 - val_loss: 2.0148 - val_accuracy: 0.4705\n",
            "Epoch 9/100\n",
            "205/205 [==============================] - 121s 588ms/step - loss: 1.6735 - accuracy: 0.5686 - val_loss: 1.9772 - val_accuracy: 0.4686\n",
            "Epoch 10/100\n",
            "205/205 [==============================] - 120s 587ms/step - loss: 1.6266 - accuracy: 0.5831 - val_loss: 1.9378 - val_accuracy: 0.4767\n",
            "Epoch 11/100\n",
            "205/205 [==============================] - 122s 595ms/step - loss: 1.5934 - accuracy: 0.5859 - val_loss: 1.9457 - val_accuracy: 0.4655\n",
            "Epoch 12/100\n",
            "205/205 [==============================] - 119s 582ms/step - loss: 1.6121 - accuracy: 0.5893 - val_loss: 1.9208 - val_accuracy: 0.4897\n",
            "Epoch 13/100\n",
            "205/205 [==============================] - 122s 593ms/step - loss: 1.5780 - accuracy: 0.5880 - val_loss: 1.9021 - val_accuracy: 0.4823\n",
            "Epoch 14/100\n",
            "205/205 [==============================] - 122s 597ms/step - loss: 1.5269 - accuracy: 0.6128 - val_loss: 1.9092 - val_accuracy: 0.4835\n",
            "Epoch 15/100\n",
            "205/205 [==============================] - 119s 582ms/step - loss: 1.5330 - accuracy: 0.6153 - val_loss: 1.8917 - val_accuracy: 0.4866\n",
            "Epoch 16/100\n",
            "205/205 [==============================] - 118s 578ms/step - loss: 1.5101 - accuracy: 0.6208 - val_loss: 1.8890 - val_accuracy: 0.5121\n",
            "Epoch 17/100\n",
            "205/205 [==============================] - 118s 574ms/step - loss: 1.5128 - accuracy: 0.6202 - val_loss: 1.8581 - val_accuracy: 0.5022\n",
            "Epoch 18/100\n",
            "205/205 [==============================] - 125s 609ms/step - loss: 1.4888 - accuracy: 0.6234 - val_loss: 1.8738 - val_accuracy: 0.5028\n",
            "Epoch 19/100\n",
            "205/205 [==============================] - 117s 572ms/step - loss: 1.4605 - accuracy: 0.6458 - val_loss: 1.8594 - val_accuracy: 0.4860\n",
            "Epoch 20/100\n",
            "205/205 [==============================] - 117s 569ms/step - loss: 1.4943 - accuracy: 0.6315 - val_loss: 1.8370 - val_accuracy: 0.5214\n",
            "Epoch 21/100\n",
            "205/205 [==============================] - 118s 577ms/step - loss: 1.4761 - accuracy: 0.6317 - val_loss: 1.8425 - val_accuracy: 0.5239\n",
            "Epoch 22/100\n",
            "205/205 [==============================] - 117s 570ms/step - loss: 1.4618 - accuracy: 0.6439 - val_loss: 1.8697 - val_accuracy: 0.4947\n",
            "Epoch 23/100\n",
            "205/205 [==============================] - 118s 576ms/step - loss: 1.4382 - accuracy: 0.6485 - val_loss: 1.8357 - val_accuracy: 0.5071\n",
            "Epoch 24/100\n",
            "205/205 [==============================] - 118s 575ms/step - loss: 1.4383 - accuracy: 0.6500 - val_loss: 1.8460 - val_accuracy: 0.5034\n",
            "Epoch 25/100\n",
            "205/205 [==============================] - 118s 576ms/step - loss: 1.4458 - accuracy: 0.6460 - val_loss: 1.8548 - val_accuracy: 0.4991\n",
            "Epoch 26/100\n",
            "205/205 [==============================] - 126s 617ms/step - loss: 1.4528 - accuracy: 0.6448 - val_loss: 1.8289 - val_accuracy: 0.5165\n",
            "Epoch 27/100\n",
            "205/205 [==============================] - 119s 578ms/step - loss: 1.4378 - accuracy: 0.6490 - val_loss: 1.8346 - val_accuracy: 0.4897\n",
            "Epoch 28/100\n",
            "205/205 [==============================] - 119s 582ms/step - loss: 1.4458 - accuracy: 0.6415 - val_loss: 1.8389 - val_accuracy: 0.5115\n",
            "Epoch 29/100\n",
            "205/205 [==============================] - 118s 578ms/step - loss: 1.4462 - accuracy: 0.6486 - val_loss: 1.8231 - val_accuracy: 0.5190\n",
            "Epoch 30/100\n",
            "205/205 [==============================] - 117s 571ms/step - loss: 1.4413 - accuracy: 0.6385 - val_loss: 1.8622 - val_accuracy: 0.5028\n",
            "Epoch 31/100\n",
            "205/205 [==============================] - 119s 580ms/step - loss: 1.4688 - accuracy: 0.6330 - val_loss: 1.8330 - val_accuracy: 0.5121\n",
            "Epoch 32/100\n",
            "205/205 [==============================] - 120s 588ms/step - loss: 1.4603 - accuracy: 0.6371 - val_loss: 1.8336 - val_accuracy: 0.5115\n",
            "Epoch 33/100\n",
            "205/205 [==============================] - 123s 598ms/step - loss: 1.4638 - accuracy: 0.6415 - val_loss: 1.8308 - val_accuracy: 0.5090\n",
            "Epoch 34/100\n",
            "205/205 [==============================] - 120s 584ms/step - loss: 1.4374 - accuracy: 0.6454 - val_loss: 1.8447 - val_accuracy: 0.5090\n",
            "Epoch 35/100\n",
            "205/205 [==============================] - 119s 578ms/step - loss: 1.4536 - accuracy: 0.6373 - val_loss: 1.8453 - val_accuracy: 0.5065\n",
            "Epoch 36/100\n",
            "205/205 [==============================] - 119s 580ms/step - loss: 1.4197 - accuracy: 0.6532 - val_loss: 1.8376 - val_accuracy: 0.5146\n",
            "Epoch 37/100\n",
            "205/205 [==============================] - 119s 581ms/step - loss: 1.4553 - accuracy: 0.6491 - val_loss: 1.8299 - val_accuracy: 0.5190\n",
            "Epoch 38/100\n",
            "205/205 [==============================] - 120s 586ms/step - loss: 1.4489 - accuracy: 0.6512 - val_loss: 1.8369 - val_accuracy: 0.5009\n",
            "Epoch 39/100\n",
            "205/205 [==============================] - 122s 593ms/step - loss: 1.4511 - accuracy: 0.6436 - val_loss: 1.8369 - val_accuracy: 0.5071\n",
            "Epoch 40/100\n",
            "205/205 [==============================] - 121s 590ms/step - loss: 1.4597 - accuracy: 0.6534 - val_loss: 1.8393 - val_accuracy: 0.4904\n",
            "Epoch 41/100\n",
            "205/205 [==============================] - 122s 595ms/step - loss: 1.4334 - accuracy: 0.6585 - val_loss: 1.8277 - val_accuracy: 0.5028\n",
            "Epoch 42/100\n",
            "205/205 [==============================] - 120s 585ms/step - loss: 1.4220 - accuracy: 0.6580 - val_loss: 1.8394 - val_accuracy: 0.5227\n",
            "Epoch 43/100\n",
            "205/205 [==============================] - 121s 590ms/step - loss: 1.4401 - accuracy: 0.6507 - val_loss: 1.8444 - val_accuracy: 0.5103\n",
            "Epoch 44/100\n",
            "205/205 [==============================] - 123s 600ms/step - loss: 1.4567 - accuracy: 0.6410 - val_loss: 1.8404 - val_accuracy: 0.5115\n",
            "Epoch 45/100\n",
            "205/205 [==============================] - 123s 602ms/step - loss: 1.4342 - accuracy: 0.6459 - val_loss: 1.8446 - val_accuracy: 0.5047\n",
            "Epoch 46/100\n",
            "205/205 [==============================] - 121s 590ms/step - loss: 1.4430 - accuracy: 0.6442 - val_loss: 1.8401 - val_accuracy: 0.5028\n",
            "Epoch 47/100\n",
            "205/205 [==============================] - 121s 590ms/step - loss: 1.4425 - accuracy: 0.6429 - val_loss: 1.8329 - val_accuracy: 0.5053\n",
            "Epoch 48/100\n",
            "205/205 [==============================] - 119s 582ms/step - loss: 1.4525 - accuracy: 0.6412 - val_loss: 1.8314 - val_accuracy: 0.5171\n",
            "Epoch 49/100\n",
            "205/205 [==============================] - 123s 597ms/step - loss: 1.4534 - accuracy: 0.6524 - val_loss: 1.8250 - val_accuracy: 0.5171\n"
          ],
          "name": "stdout"
        }
      ]
    },
    {
      "cell_type": "code",
      "metadata": {
        "id": "srsAmGZQmV6x",
        "colab": {
          "base_uri": "https://localhost:8080/"
        },
        "outputId": "78dc718d-deb2-4c38-efc8-923b9e7de6d6"
      },
      "source": [
        "## finetune model\n",
        "base_model = tf.keras.applications.VGG16(\n",
        "    weights='imagenet',  # Load weights pre-trained on ImageNet.\n",
        "    input_shape=(224,224,3),\n",
        "    include_top=False) \n",
        "base_model.trainable = True\n",
        "input_image = tf.keras.Input(shape=(224,224,3))\n",
        "x1 = base_model(input_image, training=True)\n",
        "x2 = tf.keras.layers.Flatten()(x1)\n",
        "out = tf.keras.layers.Dense(49,activation = 'softmax')(x2)\n",
        "model = tf.keras.Model(input_image, out)\n",
        "print(model.summary())\n",
        "\n",
        "model.compile(optimizer=tf.keras.optimizers.Adam(lr = 1e-6),\n",
        "              loss='categorical_crossentropy',\n",
        "              metrics=['accuracy'])\n",
        "model.load_weights(model_name)"
      ],
      "execution_count": 20,
      "outputs": [
        {
          "output_type": "stream",
          "text": [
            "Model: \"model_2\"\n",
            "_________________________________________________________________\n",
            "Layer (type)                 Output Shape              Param #   \n",
            "=================================================================\n",
            "input_6 (InputLayer)         [(None, 224, 224, 3)]     0         \n",
            "_________________________________________________________________\n",
            "vgg16 (Functional)           (None, 7, 7, 512)         14714688  \n",
            "_________________________________________________________________\n",
            "flatten_2 (Flatten)          (None, 25088)             0         \n",
            "_________________________________________________________________\n",
            "dense_2 (Dense)              (None, 49)                1229361   \n",
            "=================================================================\n",
            "Total params: 15,944,049\n",
            "Trainable params: 15,944,049\n",
            "Non-trainable params: 0\n",
            "_________________________________________________________________\n",
            "None\n"
          ],
          "name": "stdout"
        }
      ]
    },
    {
      "cell_type": "code",
      "metadata": {
        "id": "iqNWlqZnmYJF",
        "colab": {
          "base_uri": "https://localhost:8080/"
        },
        "outputId": "e900989d-149e-4f93-97c1-7f0324cc2e86"
      },
      "source": [
        "batch = 128\n",
        "num_epochs = 100\n",
        "history_2 = model.fit(train_generator,\n",
        "          validation_data = val_generator,\n",
        "          epochs=num_epochs,\n",
        "          verbose=1,\n",
        "          batch_size=batch,\n",
        "          callbacks=[early_stop,monitor,lr_schedule])"
      ],
      "execution_count": 21,
      "outputs": [
        {
          "output_type": "stream",
          "text": [
            "Epoch 1/100\n",
            "205/205 [==============================] - 128s 613ms/step - loss: 1.2945 - accuracy: 0.6561 - val_loss: 1.6354 - val_accuracy: 0.5308\n",
            "Epoch 2/100\n",
            "205/205 [==============================] - 126s 615ms/step - loss: 1.1192 - accuracy: 0.6713 - val_loss: 1.5709 - val_accuracy: 0.5587\n",
            "Epoch 3/100\n",
            "205/205 [==============================] - 124s 606ms/step - loss: 1.0304 - accuracy: 0.6840 - val_loss: 1.5445 - val_accuracy: 0.5643\n",
            "Epoch 4/100\n",
            "205/205 [==============================] - 122s 597ms/step - loss: 1.0020 - accuracy: 0.6959 - val_loss: 1.5031 - val_accuracy: 0.5625\n",
            "Epoch 5/100\n",
            "205/205 [==============================] - 122s 596ms/step - loss: 0.9591 - accuracy: 0.7155 - val_loss: 1.4841 - val_accuracy: 0.5811\n",
            "Epoch 6/100\n",
            "205/205 [==============================] - 123s 600ms/step - loss: 0.9136 - accuracy: 0.7264 - val_loss: 1.4710 - val_accuracy: 0.5805\n",
            "Epoch 7/100\n",
            "205/205 [==============================] - 124s 606ms/step - loss: 0.9139 - accuracy: 0.7257 - val_loss: 1.4860 - val_accuracy: 0.5873\n",
            "Epoch 8/100\n",
            "205/205 [==============================] - 122s 596ms/step - loss: 0.8944 - accuracy: 0.7277 - val_loss: 1.4794 - val_accuracy: 0.5780\n",
            "Epoch 9/100\n",
            "205/205 [==============================] - 123s 602ms/step - loss: 0.8464 - accuracy: 0.7469 - val_loss: 1.4508 - val_accuracy: 0.5873\n",
            "Epoch 10/100\n",
            "205/205 [==============================] - 124s 604ms/step - loss: 0.8659 - accuracy: 0.7414 - val_loss: 1.4320 - val_accuracy: 0.5973\n",
            "Epoch 11/100\n",
            "205/205 [==============================] - 123s 599ms/step - loss: 0.8799 - accuracy: 0.7296 - val_loss: 1.4483 - val_accuracy: 0.5923\n",
            "Epoch 12/100\n",
            "205/205 [==============================] - 123s 601ms/step - loss: 0.8645 - accuracy: 0.7368 - val_loss: 1.4710 - val_accuracy: 0.5879\n",
            "Epoch 13/100\n",
            "205/205 [==============================] - 123s 599ms/step - loss: 0.8510 - accuracy: 0.7473 - val_loss: 1.4241 - val_accuracy: 0.5954\n",
            "Epoch 14/100\n",
            "205/205 [==============================] - 124s 606ms/step - loss: 0.8675 - accuracy: 0.7381 - val_loss: 1.4447 - val_accuracy: 0.6004\n",
            "Epoch 15/100\n",
            "205/205 [==============================] - 123s 602ms/step - loss: 0.8679 - accuracy: 0.7374 - val_loss: 1.4285 - val_accuracy: 0.6022\n",
            "Epoch 16/100\n",
            "205/205 [==============================] - 124s 602ms/step - loss: 0.8282 - accuracy: 0.7391 - val_loss: 1.4279 - val_accuracy: 0.5898\n",
            "Epoch 17/100\n",
            "205/205 [==============================] - 123s 601ms/step - loss: 0.8071 - accuracy: 0.7570 - val_loss: 1.4043 - val_accuracy: 0.6010\n",
            "Epoch 18/100\n",
            "205/205 [==============================] - 124s 604ms/step - loss: 0.8492 - accuracy: 0.7426 - val_loss: 1.4391 - val_accuracy: 0.5780\n",
            "Epoch 19/100\n",
            "205/205 [==============================] - 123s 600ms/step - loss: 0.8407 - accuracy: 0.7411 - val_loss: 1.4397 - val_accuracy: 0.5973\n",
            "Epoch 20/100\n",
            "205/205 [==============================] - 123s 601ms/step - loss: 0.8370 - accuracy: 0.7394 - val_loss: 1.4064 - val_accuracy: 0.6010\n",
            "Epoch 21/100\n",
            "205/205 [==============================] - 123s 600ms/step - loss: 0.8254 - accuracy: 0.7523 - val_loss: 1.4363 - val_accuracy: 0.5892\n",
            "Epoch 22/100\n",
            "205/205 [==============================] - 123s 602ms/step - loss: 0.8116 - accuracy: 0.7536 - val_loss: 1.4504 - val_accuracy: 0.5923\n",
            "Epoch 23/100\n",
            "205/205 [==============================] - 123s 601ms/step - loss: 0.8061 - accuracy: 0.7623 - val_loss: 1.4404 - val_accuracy: 0.5979\n",
            "Epoch 24/100\n",
            "205/205 [==============================] - 124s 603ms/step - loss: 0.8440 - accuracy: 0.7465 - val_loss: 1.4307 - val_accuracy: 0.5935\n",
            "Epoch 25/100\n",
            "205/205 [==============================] - 124s 603ms/step - loss: 0.8366 - accuracy: 0.7443 - val_loss: 1.4829 - val_accuracy: 0.5911\n",
            "Epoch 26/100\n",
            "205/205 [==============================] - 123s 598ms/step - loss: 0.8326 - accuracy: 0.7451 - val_loss: 1.4031 - val_accuracy: 0.6016\n",
            "Epoch 27/100\n",
            "205/205 [==============================] - 122s 594ms/step - loss: 0.8423 - accuracy: 0.7429 - val_loss: 1.4119 - val_accuracy: 0.6072\n",
            "Epoch 28/100\n",
            "205/205 [==============================] - 122s 594ms/step - loss: 0.8288 - accuracy: 0.7495 - val_loss: 1.4013 - val_accuracy: 0.6016\n",
            "Epoch 29/100\n",
            "205/205 [==============================] - 122s 594ms/step - loss: 0.8032 - accuracy: 0.7614 - val_loss: 1.4065 - val_accuracy: 0.6004\n",
            "Epoch 30/100\n",
            "205/205 [==============================] - 123s 597ms/step - loss: 0.8256 - accuracy: 0.7558 - val_loss: 1.3817 - val_accuracy: 0.6016\n",
            "Epoch 31/100\n",
            "205/205 [==============================] - 123s 598ms/step - loss: 0.8189 - accuracy: 0.7582 - val_loss: 1.4530 - val_accuracy: 0.5842\n",
            "Epoch 32/100\n",
            "205/205 [==============================] - 122s 596ms/step - loss: 0.8182 - accuracy: 0.7571 - val_loss: 1.4152 - val_accuracy: 0.6053\n",
            "Epoch 33/100\n",
            "205/205 [==============================] - 122s 596ms/step - loss: 0.8784 - accuracy: 0.7419 - val_loss: 1.4350 - val_accuracy: 0.5948\n",
            "Epoch 34/100\n",
            "205/205 [==============================] - 122s 594ms/step - loss: 0.8351 - accuracy: 0.7538 - val_loss: 1.4095 - val_accuracy: 0.6134\n",
            "Epoch 35/100\n",
            "205/205 [==============================] - 122s 594ms/step - loss: 0.8082 - accuracy: 0.7565 - val_loss: 1.4051 - val_accuracy: 0.6066\n",
            "Epoch 36/100\n",
            "205/205 [==============================] - 121s 590ms/step - loss: 0.7977 - accuracy: 0.7673 - val_loss: 1.4468 - val_accuracy: 0.5892\n",
            "Epoch 37/100\n",
            "205/205 [==============================] - 122s 595ms/step - loss: 0.8289 - accuracy: 0.7519 - val_loss: 1.4165 - val_accuracy: 0.5848\n",
            "Epoch 38/100\n",
            "205/205 [==============================] - 121s 592ms/step - loss: 0.8000 - accuracy: 0.7485 - val_loss: 1.3809 - val_accuracy: 0.6066\n",
            "Epoch 39/100\n",
            "205/205 [==============================] - 123s 598ms/step - loss: 0.8062 - accuracy: 0.7553 - val_loss: 1.4598 - val_accuracy: 0.5942\n",
            "Epoch 40/100\n",
            "205/205 [==============================] - 123s 598ms/step - loss: 0.8395 - accuracy: 0.7495 - val_loss: 1.4424 - val_accuracy: 0.5942\n",
            "Epoch 41/100\n",
            "205/205 [==============================] - 122s 594ms/step - loss: 0.7845 - accuracy: 0.7599 - val_loss: 1.4259 - val_accuracy: 0.6041\n",
            "Epoch 42/100\n",
            "205/205 [==============================] - 123s 601ms/step - loss: 0.8426 - accuracy: 0.7491 - val_loss: 1.4255 - val_accuracy: 0.5942\n",
            "Epoch 43/100\n",
            "205/205 [==============================] - 123s 601ms/step - loss: 0.8554 - accuracy: 0.7398 - val_loss: 1.4167 - val_accuracy: 0.5911\n",
            "Epoch 44/100\n",
            "205/205 [==============================] - 122s 594ms/step - loss: 0.8180 - accuracy: 0.7581 - val_loss: 1.4286 - val_accuracy: 0.6053\n",
            "Epoch 45/100\n",
            "205/205 [==============================] - 123s 599ms/step - loss: 0.8371 - accuracy: 0.7451 - val_loss: 1.4397 - val_accuracy: 0.5923\n",
            "Epoch 46/100\n",
            "205/205 [==============================] - 121s 591ms/step - loss: 0.8319 - accuracy: 0.7445 - val_loss: 1.4368 - val_accuracy: 0.5979\n",
            "Epoch 47/100\n",
            "205/205 [==============================] - 121s 591ms/step - loss: 0.8101 - accuracy: 0.7523 - val_loss: 1.4269 - val_accuracy: 0.5954\n",
            "Epoch 48/100\n",
            "205/205 [==============================] - 122s 594ms/step - loss: 0.8037 - accuracy: 0.7580 - val_loss: 1.4652 - val_accuracy: 0.5805\n",
            "Epoch 49/100\n",
            "205/205 [==============================] - 122s 596ms/step - loss: 0.8127 - accuracy: 0.7511 - val_loss: 1.4294 - val_accuracy: 0.5985\n",
            "Epoch 50/100\n",
            "205/205 [==============================] - 122s 594ms/step - loss: 0.8495 - accuracy: 0.7409 - val_loss: 1.4173 - val_accuracy: 0.6010\n",
            "Epoch 51/100\n",
            "205/205 [==============================] - 123s 601ms/step - loss: 0.8466 - accuracy: 0.7458 - val_loss: 1.4232 - val_accuracy: 0.5923\n",
            "Epoch 52/100\n",
            "205/205 [==============================] - 122s 593ms/step - loss: 0.8200 - accuracy: 0.7466 - val_loss: 1.3979 - val_accuracy: 0.5985\n",
            "Epoch 53/100\n",
            "205/205 [==============================] - 123s 600ms/step - loss: 0.8338 - accuracy: 0.7453 - val_loss: 1.3937 - val_accuracy: 0.6022\n",
            "Epoch 54/100\n",
            "205/205 [==============================] - 123s 600ms/step - loss: 0.8260 - accuracy: 0.7509 - val_loss: 1.4458 - val_accuracy: 0.5954\n",
            "Epoch 55/100\n",
            "205/205 [==============================] - 122s 593ms/step - loss: 0.8763 - accuracy: 0.7354 - val_loss: 1.3880 - val_accuracy: 0.6041\n",
            "Epoch 56/100\n",
            "205/205 [==============================] - 122s 592ms/step - loss: 0.8208 - accuracy: 0.7485 - val_loss: 1.4066 - val_accuracy: 0.6041\n",
            "Epoch 57/100\n",
            "205/205 [==============================] - 120s 587ms/step - loss: 0.8082 - accuracy: 0.7500 - val_loss: 1.4153 - val_accuracy: 0.5966\n",
            "Epoch 58/100\n",
            "205/205 [==============================] - 121s 591ms/step - loss: 0.8201 - accuracy: 0.7452 - val_loss: 1.4543 - val_accuracy: 0.5923\n"
          ],
          "name": "stdout"
        }
      ]
    },
    {
      "cell_type": "code",
      "metadata": {
        "id": "v1ze2lLImfoS",
        "colab": {
          "base_uri": "https://localhost:8080/",
          "height": 295
        },
        "outputId": "1a36b8fd-8eaa-4d53-fd3d-2b790fa62228"
      },
      "source": [
        "plt.plot(history.history['accuracy'])\n",
        "plt.plot(history.history['val_accuracy'])\n",
        "plt.title('model accuracy (training 1)')\n",
        "plt.ylabel('accuracy')\n",
        "plt.xlabel('epoch')\n",
        "plt.legend(['train', 'val'], loc='upper left')\n",
        "plt.show()"
      ],
      "execution_count": 22,
      "outputs": [
        {
          "output_type": "display_data",
          "data": {
            "image/png": "[encoded data removed]",
            "text/plain": [
              "<Figure size 432x288 with 1 Axes>"
            ]
          },
          "metadata": {
            "tags": [],
            "needs_background": "light"
          }
        }
      ]
    },
    {
      "cell_type": "code",
      "metadata": {
        "id": "Eg2u1XPamgQf",
        "colab": {
          "base_uri": "https://localhost:8080/"
        },
        "outputId": "207ee451-37e7-474d-ec8b-a65895f9a4ab"
      },
      "source": [
        "model.load_weights('/content/gdrive/MyDrive/Kaggle/cropped/vgg16_cars_49_classes_cropped.h5')\n",
        "metrics = model.evaluate(test_generator)"
      ],
      "execution_count": 25,
      "outputs": [
        {
          "output_type": "stream",
          "text": [
            "252/252 [==============================] - 52s 205ms/step - loss: 1.2314 - accuracy: 0.6596\n"
          ],
          "name": "stdout"
        }
      ]
    },
    {
      "cell_type": "code",
      "metadata": {
        "colab": {
          "base_uri": "https://localhost:8080/",
          "height": 295
        },
        "id": "7vxZXG_aY9ac",
        "outputId": "59abc566-a4ed-4ae2-e2ed-0d26d9b851d6"
      },
      "source": [
        "plt.plot(history_2.history['accuracy'])\n",
        "plt.plot(history_2.history['val_accuracy'])\n",
        "plt.title('model accuracy (fine tuning')\n",
        "plt.ylabel('accuracy')\n",
        "plt.xlabel('epoch')\n",
        "plt.legend(['train', 'val'], loc='upper left')\n",
        "plt.show()"
      ],
      "execution_count": 26,
      "outputs": [
        {
          "output_type": "display_data",
          "data": {
            "image/png": "[encoded data removed]",
            "text/plain": [
              "<Figure size 432x288 with 1 Axes>"
            ]
          },
          "metadata": {
            "tags": [],
            "needs_background": "light"
          }
        }
      ]
    },
    {
      "cell_type": "code",
      "metadata": {
        "colab": {
          "base_uri": "https://localhost:8080/",
          "height": 295
        },
        "id": "l_VNeyQQY_jz",
        "outputId": "ec5948cc-a952-42d0-8ff3-1910abee6545"
      },
      "source": [
        "acc_total = np.zeros(len(history.history['accuracy']) + len(history_2.history['accuracy']))\n",
        "val_total = np.zeros(len(history.history['val_accuracy']) + len(history_2.history['val_accuracy']))\n",
        "\n",
        "for i in range(len(history.history['accuracy'])):\n",
        "  acc_total[i] = history.history['accuracy'][i]\n",
        "  val_total[i] = history.history['val_accuracy'][i]\n",
        "  \n",
        "for j in range(len(history_2.history['accuracy'])):\n",
        "  acc_total[j+len(history.history['accuracy'])] = history_2.history['accuracy'][j]\n",
        "  val_total[j+len(history.history['val_accuracy'])] = history_2.history['val_accuracy'][j]\n",
        "\n",
        "\n",
        "\n",
        "plt.plot(acc_total)\n",
        "plt.plot(val_total)\n",
        "plt.title('Total Training')\n",
        "plt.ylabel('accuracy')\n",
        "plt.xlabel('epoch')\n",
        "plt.legend(['train', 'val'], loc='upper left')\n",
        "plt.show()  "
      ],
      "execution_count": 27,
      "outputs": [
        {
          "output_type": "display_data",
          "data": {
            "image/png": "[encoded data removed]",
            "text/plain": [
              "<Figure size 432x288 with 1 Axes>"
            ]
          },
          "metadata": {
            "tags": [],
            "needs_background": "light"
          }
        }
      ]
    },
    {
      "cell_type": "code",
      "metadata": {
        "colab": {
          "base_uri": "https://localhost:8080/"
        },
        "id": "PGlviU-5HXq3",
        "outputId": "cbd7b467-0b35-4319-c3f0-805117aa13c8"
      },
      "source": [
        "max(history_2.history['val_accuracy'])"
      ],
      "execution_count": 28,
      "outputs": [
        {
          "output_type": "execute_result",
          "data": {
            "text/plain": [
              "0.6134244799613953"
            ]
          },
          "metadata": {
            "tags": []
          },
          "execution_count": 28
        }
      ]
    },
    {
      "cell_type": "code",
      "metadata": {
        "colab": {
          "base_uri": "https://localhost:8080/"
        },
        "id": "bEBXLs0wHhON",
        "outputId": "a3fe0171-3500-426d-b38f-f6f6908e46a2"
      },
      "source": [
        "max(history_2.history['accuracy'])"
      ],
      "execution_count": 29,
      "outputs": [
        {
          "output_type": "execute_result",
          "data": {
            "text/plain": [
              "0.7605202794075012"
            ]
          },
          "metadata": {
            "tags": []
          },
          "execution_count": 29
        }
      ]
    },
    {
      "cell_type": "code",
      "metadata": {
        "id": "4Ga3CH2gHllA"
      },
      "source": [
        ""
      ],
      "execution_count": null,
      "outputs": []
    }
  ]
}