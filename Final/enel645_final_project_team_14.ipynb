{
  "nbformat": 4,
  "nbformat_minor": 0,
  "metadata": {
    "colab": {
      "name": "enel645_final_project_team_14.ipynb",
      "provenance": [],
      "collapsed_sections": []
    },
    "kernelspec": {
      "name": "python3",
      "display_name": "Python 3"
    },
    "language_info": {
      "name": "python"
    }
  },
  "cells": [
    {
      "cell_type": "code",
      "metadata": {
        "id": "qUU0EBtfTVZj"
      },
      "source": [
        "# importing libaries\n",
        "import matplotlib.pylab as plt\n",
        "import numpy as np\n",
        "import tensorflow as tf\n",
        "import pandas as pd\n",
        "import cv2\n",
        "from keras.models import Sequential\n",
        "from keras.layers import Dense, Conv2D, MaxPool2D, Flatten\n",
        "from keras.applications.vgg16 import VGG16"
      ],
      "execution_count": 1,
      "outputs": []
    },
    {
      "cell_type": "code",
      "metadata": {
        "colab": {
          "base_uri": "https://localhost:8080/"
        },
        "id": "2F0M7PCETfL8",
        "outputId": "9dcb2aee-3d03-48b2-9394-0d82f3ef3eb4"
      },
      "source": [
        "from google.colab import drive\n",
        "drive.mount('/content/gdrive')"
      ],
      "execution_count": 2,
      "outputs": [
        {
          "output_type": "stream",
          "text": [
            "Mounted at /content/gdrive\n"
          ],
          "name": "stdout"
        }
      ]
    },
    {
      "cell_type": "markdown",
      "metadata": {
        "id": "rUzWIVZeUY2H"
      },
      "source": [
        "# 1. Load Dataset\n",
        "\n",
        "The dataset was adapted from [Kaggle](https://www.kaggle.com/sungtheillest/vehicledetected-stanford-cars-data-classes-folder), by combining 50% of the testing set to the training set to increase the number of training samples. The original 196 classes representing each vehicle's make and model were reduced to 49 classes representing only vehicle's make.\n",
        "\n",
        "\n",
        "\n"
      ]
    },
    {
      "cell_type": "code",
      "metadata": {
        "colab": {
          "base_uri": "https://localhost:8080/"
        },
        "id": "cn8bULDDTgmE",
        "outputId": "584367fe-75b7-42c2-c79b-8ff319c26cce"
      },
      "source": [
        "# Parameters for Data Augmentation and Scaling\n",
        "gen_params = {\"rescale\":1.0/255,\n",
        "              \"featurewise_center\":False,\n",
        "              \"samplewise_center\":False,\n",
        "              \"featurewise_std_normalization\":False,\n",
        "              \"samplewise_std_normalization\":False,\n",
        "              \"zca_whitening\":False,\n",
        "              \"rotation_range\":20,\n",
        "              \"width_shift_range\":0.1,\n",
        "              \"height_shift_range\":0.1,\n",
        "              \"shear_range\":0.2,\n",
        "              \"zoom_range\":0.1,\n",
        "              \"horizontal_flip\":True,\n",
        "              \"fill_mode\":'constant',\n",
        "              \"cval\": 0,\n",
        "              \"validation_split\":0.25}\n",
        "\n",
        "#Prepare ImageDataGenerators\n",
        "train_datagen = tf.keras.preprocessing.image.ImageDataGenerator(**gen_params)              \n",
        "test_params = {\"rescale\":1.0/255,}\n",
        "test_datagen = tf.keras.preprocessing.image.ImageDataGenerator(**test_params)\n",
        "\n",
        "\n",
        "## Data generator for training images\n",
        "train_generator = train_datagen.flow_from_directory('/content/gdrive/MyDrive/Kaggle/data/car_data/train/',\n",
        "                                                    class_mode='categorical', batch_size = 32,\n",
        "                                                    target_size=(224,224),color_mode='rgb',shuffle = True,subset='training')\n",
        "\n",
        "## Data generator for validation images\n",
        "val_generator = train_datagen.flow_from_directory('/content/gdrive/MyDrive/Kaggle/data/car_data/train/',\n",
        "                                                    class_mode='categorical', batch_size = 32, \n",
        "                                                    target_size=(224,224),color_mode='rgb',shuffle = True,subset='validation')\n",
        "## Data generator for test images\n",
        "\n",
        "test_generator = test_datagen.flow_from_directory('/content/gdrive/MyDrive/Kaggle/data/car_data/test/',\n",
        "                                                    class_mode='categorical', batch_size = 32,\n",
        "                                                    target_size=(224,224),color_mode='rgb',shuffle = True)"
      ],
      "execution_count": 3,
      "outputs": [
        {
          "output_type": "stream",
          "text": [
            "Found 9138 images belonging to 49 classes.\n",
            "Found 3021 images belonging to 49 classes.\n",
            "Found 4026 images belonging to 49 classes.\n"
          ],
          "name": "stdout"
        }
      ]
    },
    {
      "cell_type": "markdown",
      "metadata": {
        "id": "60qkFFHEVQqZ"
      },
      "source": [
        "# 2. Dataset Exploration"
      ]
    },
    {
      "cell_type": "markdown",
      "metadata": {
        "id": "CkMsJ3kcYpZl"
      },
      "source": [
        "## 2.1. Dataset Information"
      ]
    },
    {
      "cell_type": "code",
      "metadata": {
        "colab": {
          "base_uri": "https://localhost:8080/",
          "height": 235
        },
        "id": "RhoBBcp3TwOL",
        "outputId": "17686b6b-ac5c-4baa-cae6-a40d38d323c5"
      },
      "source": [
        "list_data = [train_generator.samples,\n",
        "             val_generator.samples,\n",
        "             test_generator.samples,\n",
        "             train_generator.samples+val_generator.samples+test_generator.samples,\n",
        "             train_generator.image_shape,\n",
        "             len(np.unique(train_generator.classes))]\n",
        "\n",
        "df = pd.DataFrame([list_data],\n",
        "                  columns=['Number of training images','Number of validation images','Number of testing images','Total number of images','Size of each image','Number of Classes'],\n",
        "                  index=['Value']).transpose()\n",
        "\n",
        "display(df)"
      ],
      "execution_count": 84,
      "outputs": [
        {
          "output_type": "display_data",
          "data": {
            "text/html": [
              "<div>\n",
              "<style scoped>\n",
              "    .dataframe tbody tr th:only-of-type {\n",
              "        vertical-align: middle;\n",
              "    }\n",
              "\n",
              "    .dataframe tbody tr th {\n",
              "        vertical-align: top;\n",
              "    }\n",
              "\n",
              "    .dataframe thead th {\n",
              "        text-align: right;\n",
              "    }\n",
              "</style>\n",
              "<table border=\"1\" class=\"dataframe\">\n",
              "  <thead>\n",
              "    <tr style=\"text-align: right;\">\n",
              "      <th></th>\n",
              "      <th>Value</th>\n",
              "    </tr>\n",
              "  </thead>\n",
              "  <tbody>\n",
              "    <tr>\n",
              "      <th>Number of training images</th>\n",
              "      <td>9138</td>\n",
              "    </tr>\n",
              "    <tr>\n",
              "      <th>Number of validation images</th>\n",
              "      <td>3021</td>\n",
              "    </tr>\n",
              "    <tr>\n",
              "      <th>Number of testing images</th>\n",
              "      <td>4026</td>\n",
              "    </tr>\n",
              "    <tr>\n",
              "      <th>Total number of images</th>\n",
              "      <td>16185</td>\n",
              "    </tr>\n",
              "    <tr>\n",
              "      <th>Size of each image</th>\n",
              "      <td>(224, 224, 3)</td>\n",
              "    </tr>\n",
              "    <tr>\n",
              "      <th>Number of Classes</th>\n",
              "      <td>49</td>\n",
              "    </tr>\n",
              "  </tbody>\n",
              "</table>\n",
              "</div>"
            ],
            "text/plain": [
              "                                     Value\n",
              "Number of training images             9138\n",
              "Number of validation images           3021\n",
              "Number of testing images              4026\n",
              "Total number of images               16185\n",
              "Size of each image           (224, 224, 3)\n",
              "Number of Classes                       49"
            ]
          },
          "metadata": {
            "tags": []
          }
        }
      ]
    },
    {
      "cell_type": "markdown",
      "metadata": {
        "id": "SQFFWoRbYuRr"
      },
      "source": [
        "## 2.2. Class Distribution"
      ]
    },
    {
      "cell_type": "code",
      "metadata": {
        "id": "xG1iYc74aZX1"
      },
      "source": [
        "from collections import Counter\n",
        "train = Counter(train_generator.classes)\n",
        "val = Counter(val_generator.classes)\n",
        "test = Counter(test_generator.classes)\n",
        "total = dict(train+val+test)\n",
        "class_names = dict(train_generator.class_indices)\n",
        "class_names = {v: k for k, v in class_names.items()}"
      ],
      "execution_count": 112,
      "outputs": []
    },
    {
      "cell_type": "code",
      "metadata": {
        "colab": {
          "base_uri": "https://localhost:8080/",
          "height": 1000
        },
        "id": "hjslWELZshBR",
        "outputId": "d94c718c-9eea-45e3-db90-db909f741038"
      },
      "source": [
        "class_df = pd.DataFrame([class_names,total]).transpose()\n",
        "class_df.columns=['Make','Num Images']\n",
        "class_df"
      ],
      "execution_count": 129,
      "outputs": [
        {
          "output_type": "execute_result",
          "data": {
            "text/html": [
              "<div>\n",
              "<style scoped>\n",
              "    .dataframe tbody tr th:only-of-type {\n",
              "        vertical-align: middle;\n",
              "    }\n",
              "\n",
              "    .dataframe tbody tr th {\n",
              "        vertical-align: top;\n",
              "    }\n",
              "\n",
              "    .dataframe thead th {\n",
              "        text-align: right;\n",
              "    }\n",
              "</style>\n",
              "<table border=\"1\" class=\"dataframe\">\n",
              "  <thead>\n",
              "    <tr style=\"text-align: right;\">\n",
              "      <th></th>\n",
              "      <th>Make</th>\n",
              "      <th>Num Images</th>\n",
              "    </tr>\n",
              "  </thead>\n",
              "  <tbody>\n",
              "    <tr>\n",
              "      <th>0</th>\n",
              "      <td>AM General</td>\n",
              "      <td>89</td>\n",
              "    </tr>\n",
              "    <tr>\n",
              "      <th>1</th>\n",
              "      <td>Acura</td>\n",
              "      <td>482</td>\n",
              "    </tr>\n",
              "    <tr>\n",
              "      <th>2</th>\n",
              "      <td>Aston Martin</td>\n",
              "      <td>314</td>\n",
              "    </tr>\n",
              "    <tr>\n",
              "      <th>3</th>\n",
              "      <td>Audi</td>\n",
              "      <td>1169</td>\n",
              "    </tr>\n",
              "    <tr>\n",
              "      <th>4</th>\n",
              "      <td>BMW</td>\n",
              "      <td>1055</td>\n",
              "    </tr>\n",
              "    <tr>\n",
              "      <th>5</th>\n",
              "      <td>Bentley</td>\n",
              "      <td>472</td>\n",
              "    </tr>\n",
              "    <tr>\n",
              "      <th>6</th>\n",
              "      <td>Bugatti</td>\n",
              "      <td>152</td>\n",
              "    </tr>\n",
              "    <tr>\n",
              "      <th>7</th>\n",
              "      <td>Buick</td>\n",
              "      <td>314</td>\n",
              "    </tr>\n",
              "    <tr>\n",
              "      <th>8</th>\n",
              "      <td>Cadillac</td>\n",
              "      <td>257</td>\n",
              "    </tr>\n",
              "    <tr>\n",
              "      <th>9</th>\n",
              "      <td>Chevrolet</td>\n",
              "      <td>1799</td>\n",
              "    </tr>\n",
              "    <tr>\n",
              "      <th>10</th>\n",
              "      <td>Chrysler</td>\n",
              "      <td>516</td>\n",
              "    </tr>\n",
              "    <tr>\n",
              "      <th>11</th>\n",
              "      <td>Daewoo</td>\n",
              "      <td>90</td>\n",
              "    </tr>\n",
              "    <tr>\n",
              "      <th>12</th>\n",
              "      <td>Dodge</td>\n",
              "      <td>1253</td>\n",
              "    </tr>\n",
              "    <tr>\n",
              "      <th>13</th>\n",
              "      <td>Eagle</td>\n",
              "      <td>92</td>\n",
              "    </tr>\n",
              "    <tr>\n",
              "      <th>14</th>\n",
              "      <td>FIAT</td>\n",
              "      <td>122</td>\n",
              "    </tr>\n",
              "    <tr>\n",
              "      <th>15</th>\n",
              "      <td>Ferrari</td>\n",
              "      <td>326</td>\n",
              "    </tr>\n",
              "    <tr>\n",
              "      <th>16</th>\n",
              "      <td>Fisker</td>\n",
              "      <td>87</td>\n",
              "    </tr>\n",
              "    <tr>\n",
              "      <th>17</th>\n",
              "      <td>Ford</td>\n",
              "      <td>1035</td>\n",
              "    </tr>\n",
              "    <tr>\n",
              "      <th>18</th>\n",
              "      <td>GMC</td>\n",
              "      <td>473</td>\n",
              "    </tr>\n",
              "    <tr>\n",
              "      <th>19</th>\n",
              "      <td>Geo Metro</td>\n",
              "      <td>89</td>\n",
              "    </tr>\n",
              "    <tr>\n",
              "      <th>20</th>\n",
              "      <td>HUMMER</td>\n",
              "      <td>165</td>\n",
              "    </tr>\n",
              "    <tr>\n",
              "      <th>21</th>\n",
              "      <td>Honda</td>\n",
              "      <td>321</td>\n",
              "    </tr>\n",
              "    <tr>\n",
              "      <th>22</th>\n",
              "      <td>Hyundai</td>\n",
              "      <td>871</td>\n",
              "    </tr>\n",
              "    <tr>\n",
              "      <th>23</th>\n",
              "      <td>Infiniti</td>\n",
              "      <td>133</td>\n",
              "    </tr>\n",
              "    <tr>\n",
              "      <th>24</th>\n",
              "      <td>Isuzu</td>\n",
              "      <td>80</td>\n",
              "    </tr>\n",
              "    <tr>\n",
              "      <th>25</th>\n",
              "      <td>Jaguar</td>\n",
              "      <td>93</td>\n",
              "    </tr>\n",
              "    <tr>\n",
              "      <th>26</th>\n",
              "      <td>Jeep</td>\n",
              "      <td>438</td>\n",
              "    </tr>\n",
              "    <tr>\n",
              "      <th>27</th>\n",
              "      <td>Lamborghini</td>\n",
              "      <td>319</td>\n",
              "    </tr>\n",
              "    <tr>\n",
              "      <th>28</th>\n",
              "      <td>Land Rover</td>\n",
              "      <td>170</td>\n",
              "    </tr>\n",
              "    <tr>\n",
              "      <th>29</th>\n",
              "      <td>Lincoln</td>\n",
              "      <td>78</td>\n",
              "    </tr>\n",
              "    <tr>\n",
              "      <th>30</th>\n",
              "      <td>MINI</td>\n",
              "      <td>73</td>\n",
              "    </tr>\n",
              "    <tr>\n",
              "      <th>31</th>\n",
              "      <td>Maybach</td>\n",
              "      <td>58</td>\n",
              "    </tr>\n",
              "    <tr>\n",
              "      <th>32</th>\n",
              "      <td>Mazda</td>\n",
              "      <td>72</td>\n",
              "    </tr>\n",
              "    <tr>\n",
              "      <th>33</th>\n",
              "      <td>McLaren</td>\n",
              "      <td>88</td>\n",
              "    </tr>\n",
              "    <tr>\n",
              "      <th>34</th>\n",
              "      <td>Mercedes-Benz</td>\n",
              "      <td>518</td>\n",
              "    </tr>\n",
              "    <tr>\n",
              "      <th>35</th>\n",
              "      <td>Mitsubishi</td>\n",
              "      <td>95</td>\n",
              "    </tr>\n",
              "    <tr>\n",
              "      <th>36</th>\n",
              "      <td>Nissan</td>\n",
              "      <td>341</td>\n",
              "    </tr>\n",
              "    <tr>\n",
              "      <th>37</th>\n",
              "      <td>Plymouth</td>\n",
              "      <td>88</td>\n",
              "    </tr>\n",
              "    <tr>\n",
              "      <th>38</th>\n",
              "      <td>Porsche</td>\n",
              "      <td>87</td>\n",
              "    </tr>\n",
              "    <tr>\n",
              "      <th>39</th>\n",
              "      <td>Ram</td>\n",
              "      <td>82</td>\n",
              "    </tr>\n",
              "    <tr>\n",
              "      <th>40</th>\n",
              "      <td>Rolls-Royce</td>\n",
              "      <td>226</td>\n",
              "    </tr>\n",
              "    <tr>\n",
              "      <th>41</th>\n",
              "      <td>Scion</td>\n",
              "      <td>83</td>\n",
              "    </tr>\n",
              "    <tr>\n",
              "      <th>42</th>\n",
              "      <td>Spyker</td>\n",
              "      <td>175</td>\n",
              "    </tr>\n",
              "    <tr>\n",
              "      <th>43</th>\n",
              "      <td>Suzuki</td>\n",
              "      <td>333</td>\n",
              "    </tr>\n",
              "    <tr>\n",
              "      <th>44</th>\n",
              "      <td>Tesla</td>\n",
              "      <td>77</td>\n",
              "    </tr>\n",
              "    <tr>\n",
              "      <th>45</th>\n",
              "      <td>Toyota</td>\n",
              "      <td>332</td>\n",
              "    </tr>\n",
              "    <tr>\n",
              "      <th>46</th>\n",
              "      <td>Volkswagen</td>\n",
              "      <td>263</td>\n",
              "    </tr>\n",
              "    <tr>\n",
              "      <th>47</th>\n",
              "      <td>Volvo</td>\n",
              "      <td>260</td>\n",
              "    </tr>\n",
              "    <tr>\n",
              "      <th>48</th>\n",
              "      <td>smart fortwo</td>\n",
              "      <td>80</td>\n",
              "    </tr>\n",
              "  </tbody>\n",
              "</table>\n",
              "</div>"
            ],
            "text/plain": [
              "             Make Num Images\n",
              "0      AM General         89\n",
              "1           Acura        482\n",
              "2    Aston Martin        314\n",
              "3            Audi       1169\n",
              "4             BMW       1055\n",
              "5         Bentley        472\n",
              "6         Bugatti        152\n",
              "7           Buick        314\n",
              "8        Cadillac        257\n",
              "9       Chevrolet       1799\n",
              "10       Chrysler        516\n",
              "11         Daewoo         90\n",
              "12          Dodge       1253\n",
              "13          Eagle         92\n",
              "14           FIAT        122\n",
              "15        Ferrari        326\n",
              "16         Fisker         87\n",
              "17           Ford       1035\n",
              "18            GMC        473\n",
              "19      Geo Metro         89\n",
              "20         HUMMER        165\n",
              "21          Honda        321\n",
              "22        Hyundai        871\n",
              "23       Infiniti        133\n",
              "24          Isuzu         80\n",
              "25         Jaguar         93\n",
              "26           Jeep        438\n",
              "27    Lamborghini        319\n",
              "28     Land Rover        170\n",
              "29        Lincoln         78\n",
              "30           MINI         73\n",
              "31        Maybach         58\n",
              "32          Mazda         72\n",
              "33        McLaren         88\n",
              "34  Mercedes-Benz        518\n",
              "35     Mitsubishi         95\n",
              "36         Nissan        341\n",
              "37       Plymouth         88\n",
              "38        Porsche         87\n",
              "39            Ram         82\n",
              "40    Rolls-Royce        226\n",
              "41          Scion         83\n",
              "42         Spyker        175\n",
              "43         Suzuki        333\n",
              "44          Tesla         77\n",
              "45         Toyota        332\n",
              "46     Volkswagen        263\n",
              "47          Volvo        260\n",
              "48   smart fortwo         80"
            ]
          },
          "metadata": {
            "tags": []
          },
          "execution_count": 129
        }
      ]
    },
    {
      "cell_type": "code",
      "metadata": {
        "colab": {
          "base_uri": "https://localhost:8080/",
          "height": 454
        },
        "id": "i7BgSbAwuFLY",
        "outputId": "971b129b-fed5-45f1-b57f-716da6a618a2"
      },
      "source": [
        "fig = plt.figure()\n",
        "fig.set_size_inches(20,6)\n",
        "plt.bar(class_df['Make'],class_df['Num Images'])\n",
        "plt.xticks(rotation=90)\n",
        "plt.xlabel(\"Car Makes\")\n",
        "plt.ylabel(\"Number of Images\")\n",
        "plt.ylabel(\"Histogram of Class Distribution\")\n",
        "plt.show()"
      ],
      "execution_count": 163,
      "outputs": [
        {
          "output_type": "display_data",
          "data": {
            "image/png": "[encoded data removed]",
            "text/plain": [
              "<Figure size 1440x432 with 1 Axes>"
            ]
          },
          "metadata": {
            "tags": [],
            "needs_background": "light"
          }
        }
      ]
    },
    {
      "cell_type": "code",
      "metadata": {
        "id": "8Zbi7xy0u9Z_"
      },
      "source": [
        ""
      ],
      "execution_count": null,
      "outputs": []
    }
  ]
}